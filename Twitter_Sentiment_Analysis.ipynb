{
  "nbformat": 4,
  "nbformat_minor": 0,
  "metadata": {
    "colab": {
      "provenance": []
    },
    "kernelspec": {
      "name": "python3",
      "display_name": "Python 3"
    }
  },
  "cells": [
    {
      "cell_type": "markdown",
      "metadata": {
        "id": "p0ZjjTnjrTJz"
      },
      "source": [
        "# 1) Importing the Libraries"
      ]
    },
    {
      "cell_type": "code",
      "metadata": {
        "id": "cRGW8bhNrVlP"
      },
      "source": [
        "from textblob import TextBlob\n",
        "# TextBlob is a Python library to process the textual data\n",
        "# It provides a simple API for diving into common natural language processing tasks such as POS tagging, noun phrase extraction, sentiment analysis, classification, etc"
      ],
      "execution_count": null,
      "outputs": []
    },
    {
      "cell_type": "code",
      "metadata": {
        "id": "Uy4eNoL58t9n"
      },
      "source": [
        "import sys\n",
        "# The sys module provides information about constants, functions and methods of the Python interpreter"
      ],
      "execution_count": null,
      "outputs": []
    },
    {
      "cell_type": "code",
      "metadata": {
        "id": "4LLZws8H9NH0"
      },
      "source": [
        "import tweepy\n",
        "# Tweepy is a Python library for accessing the Twitter API"
      ],
      "execution_count": null,
      "outputs": []
    },
    {
      "cell_type": "code",
      "metadata": {
        "id": "m8onPYfGCXF1"
      },
      "source": [
        "import matplotlib.pyplot as plt"
      ],
      "execution_count": null,
      "outputs": []
    },
    {
      "cell_type": "markdown",
      "metadata": {
        "id": "VowX2r0ssJIB"
      },
      "source": [
        "# 2)  Connecting with the Twitter API"
      ]
    },
    {
      "cell_type": "code",
      "metadata": {
        "id": "bQzulnuVsLI3"
      },
      "source": [
        "# Importing the keys\n",
        "consumer_key = \"0X1n7RLbEbKCptc3IWWO0NyKg\"\n",
        "consumer_secret = \"JAIvCNkR2KtPsKP2KuWI6Uf4vdSwWB04Fsn6WnzHxp2RF2d3G7\"\n",
        "access_token = \"4265465548-H3Wrpd5r6H0XvrlPdXrCgVGgK7XtWFtRod68mdR\"\n",
        "access_token_secret = \"nf16USo4dklbFoNE4W1rNmhS564rm7yFgJdIcKIsLMUXE\""
      ],
      "execution_count": null,
      "outputs": []
    },
    {
      "cell_type": "code",
      "metadata": {
        "id": "9Yu9hZCPs0RA"
      },
      "source": [
        "# Establish the connection with API\n",
        "auth = tweepy.OAuthHandler(consumer_key, consumer_secret)\n",
        "auth.set_access_token(access_token, access_token_secret)\n",
        "# given authorization to tweepy for accessing the twitter data\n",
        "\n",
        "api = tweepy.API(auth) # geting API"
      ],
      "execution_count": null,
      "outputs": []
    },
    {
      "cell_type": "code",
      "metadata": {
        "id": "X4ZNZotJtBm_",
        "outputId": "ac6b2906-6004-4443-d5ab-8935c5428328",
        "colab": {
          "base_uri": "https://localhost:8080/",
          "height": 52
        }
      },
      "source": [
        "# Define variables, search term and number of tweets\n",
        "search_term = input(\"Enter Keyword/Tag to search about: \")\n",
        "no_of_tweets = int(input(\"Enter how many tweets to search: \"))\n",
        "\n",
        "# search_term will allow us to search the term on twitter\n",
        "# and second line will allow us to enter number the number of twits"
      ],
      "execution_count": null,
      "outputs": [
        {
          "output_type": "stream",
          "text": [
            "Enter Keyword/Tag to search about: Money Heist\n",
            "Enter how many tweets to search: 1000\n"
          ],
          "name": "stdout"
        }
      ]
    },
    {
      "cell_type": "code",
      "metadata": {
        "id": "If1uO6DttEY3"
      },
      "source": [
        "# Get no_of_tweets and search_term together\n",
        "tweets = tweepy.Cursor(api.search, q=search_term).items(no_of_tweets)"
      ],
      "execution_count": null,
      "outputs": []
    },
    {
      "cell_type": "markdown",
      "metadata": {
        "id": "R9EIrO6_tSTP"
      },
      "source": [
        "# 3) Understanding the working of TextBlob"
      ]
    },
    {
      "cell_type": "code",
      "metadata": {
        "id": "q6A9wMnwtVZ7"
      },
      "source": [
        "# TextBlob gives the sentiment polarity between -1 to +1\n",
        "# -1 is for negative polarity, 0 is for neutral polarity and +1 is for positive polarity"
      ],
      "execution_count": null,
      "outputs": []
    },
    {
      "cell_type": "code",
      "metadata": {
        "id": "ggFS_FhmS1Hg",
        "colab": {
          "base_uri": "https://localhost:8080/",
          "height": 34
        },
        "outputId": "1569df75-a333-4d99-ed29-a46f6fb71282"
      },
      "source": [
        "# Negative polarity\n",
        "a = TextBlob(\"I am a bad Cricket player\")\n",
        "a.sentiment.polarity"
      ],
      "execution_count": null,
      "outputs": [
        {
          "output_type": "execute_result",
          "data": {
            "text/plain": [
              "-0.6999999999999998"
            ]
          },
          "metadata": {
            "tags": []
          },
          "execution_count": 9
        }
      ]
    },
    {
      "cell_type": "code",
      "metadata": {
        "id": "znP4XT9UtcLG",
        "outputId": "03761c13-f3c7-4582-cecb-7e2d7ffc5abc",
        "colab": {
          "base_uri": "https://localhost:8080/",
          "height": 34
        }
      },
      "source": [
        "# Positive polarity\n",
        "b = TextBlob(\"I am a good Cricket player\")\n",
        "b.sentiment.polarity"
      ],
      "execution_count": null,
      "outputs": [
        {
          "output_type": "execute_result",
          "data": {
            "text/plain": [
              "0.7"
            ]
          },
          "metadata": {
            "tags": []
          },
          "execution_count": 10
        }
      ]
    },
    {
      "cell_type": "code",
      "metadata": {
        "id": "tY3vme9itXZH",
        "outputId": "e7a9c121-dae4-46f1-e319-fbb9f25f1547",
        "colab": {
          "base_uri": "https://localhost:8080/",
          "height": 34
        }
      },
      "source": [
        "# Neutral polarity\n",
        "c = TextBlob(\"I am a Cricket player\")\n",
        "c.sentiment.polarity"
      ],
      "execution_count": null,
      "outputs": [
        {
          "output_type": "execute_result",
          "data": {
            "text/plain": [
              "0.0"
            ]
          },
          "metadata": {
            "tags": []
          },
          "execution_count": 11
        }
      ]
    },
    {
      "cell_type": "markdown",
      "metadata": {
        "id": "ou56yV5VVSCU"
      },
      "source": [
        "# 4) Iterate the data and convert the result in percentage"
      ]
    },
    {
      "cell_type": "code",
      "metadata": {
        "id": "Qu8glX79te_J"
      },
      "source": [
        "# Create variables to hold the average polarity\n",
        "\n",
        "positive = 0\n",
        "negative = 0\n",
        "neutral = 0\n",
        "polarity = 0\n",
        "\n",
        "# 'polarity' will be the average polarity of all the twits"
      ],
      "execution_count": null,
      "outputs": []
    },
    {
      "cell_type": "code",
      "metadata": {
        "id": "WhDjOby3tkVZ"
      },
      "source": [
        "# Iterate with for loop\n",
        "\n",
        "for tweet in tweets:\n",
        "   analysis = TextBlob(tweet.text) # 'tweet.text' number of tweets that we are searching for\n",
        "   polarity += analysis.sentiment.polarity\n",
        "\n",
        "   if(analysis.sentiment.polarity == 0):\n",
        "       neutral += 1\n",
        "\n",
        "   elif(analysis.sentiment.polarity < 0.00):\n",
        "       negative += 1\n",
        "\n",
        "   elif(analysis.sentiment.polarity > 0.00):\n",
        "       positive += 1"
      ],
      "execution_count": null,
      "outputs": []
    },
    {
      "cell_type": "code",
      "metadata": {
        "id": "EPVVMQssUrRO"
      },
      "source": [
        "# Define a function to calculate the percentage\n",
        "def percentage(part, whole):\n",
        "    return 100 * float(part)/float(whole)"
      ],
      "execution_count": null,
      "outputs": []
    },
    {
      "cell_type": "code",
      "metadata": {
        "id": "HMrx6P6BUtG_",
        "colab": {
          "base_uri": "https://localhost:8080/",
          "height": 34
        },
        "outputId": "ab707355-536d-497d-cf71-3423624c7a3f"
      },
      "source": [
        "percentage(5,20)\n",
        "# function is working fine"
      ],
      "execution_count": null,
      "outputs": [
        {
          "output_type": "execute_result",
          "data": {
            "text/plain": [
              "25.0"
            ]
          },
          "metadata": {
            "tags": []
          },
          "execution_count": 15
        }
      ]
    },
    {
      "cell_type": "code",
      "metadata": {
        "id": "HXZVBym3tl3K"
      },
      "source": [
        "# Generate the percentages\n",
        "positive = percentage(positive, no_of_tweets)\n",
        "negative = percentage(negative, no_of_tweets)\n",
        "neutral  = percentage(neutral, no_of_tweets)\n",
        "polarity  = percentage(polarity, no_of_tweets)"
      ],
      "execution_count": null,
      "outputs": []
    },
    {
      "cell_type": "code",
      "metadata": {
        "id": "MPWxYNH5tqJQ"
      },
      "source": [
        "# Limit decimal upto 2 places\n",
        "positive = format(positive, '.2f')\n",
        "negative = format(negative, '.2f')\n",
        "neutral = format(neutral, '.2f')"
      ],
      "execution_count": null,
      "outputs": []
    },
    {
      "cell_type": "markdown",
      "metadata": {
        "id": "fLFcsqbnW730"
      },
      "source": [
        "# 5) Getting the result of analysis"
      ]
    },
    {
      "cell_type": "code",
      "metadata": {
        "id": "nWFtELkpttih",
        "colab": {
          "base_uri": "https://localhost:8080/",
          "height": 52
        },
        "outputId": "9b7a23c2-62fc-458e-8f5c-5d695ef2e149"
      },
      "source": [
        "# Print analysis of result\n",
        "\n",
        "print(\"Reaction of the people on \" + search_term +\n",
        "      \" By analyzing \" + str(no_of_tweets) + \" Tweets \")\n",
        "\n",
        "if (polarity == 0):\n",
        "    print(\" is 'Neutral'\")\n",
        "\n",
        "elif (polarity < 0.00):\n",
        "    print(\"is 'Negative'\")\n",
        "\n",
        "elif (polarity > 0.00):\n",
        "    print(\"is 'Positive'\")"
      ],
      "execution_count": null,
      "outputs": [
        {
          "output_type": "stream",
          "text": [
            "Reaction of the people on Money Heist By analyzing 1000 Tweets \n",
            "is 'Positive'\n"
          ],
          "name": "stdout"
        }
      ]
    },
    {
      "cell_type": "code",
      "metadata": {
        "id": "S4sBghSOtvTm",
        "colab": {
          "base_uri": "https://localhost:8080/",
          "height": 297
        },
        "outputId": "870853de-5b32-4d7d-a4fb-dbb17c8f5809"
      },
      "source": [
        "# Print Pie Chart\n",
        "\n",
        "labels = ['Positive ['+str(positive)+'%]',\n",
        "          'Neutral ['+str(neutral)+'%]',\n",
        "          'Negative ['+str(negative)+'%]']\n",
        "\n",
        "sizes = [positive, neutral, negative]\n",
        "colors = ['yellowgreen', 'gold', 'red']\n",
        "\n",
        "patches, texts = plt.pie(sizes, colors = colors, startangle = 90)\n",
        "plt.legend(patches, labels, loc = \"best\")\n",
        "plt.title('Reaction of the people on '\n",
        "          + search_term +' by analyzing '\n",
        "          + str(no_of_tweets) +' Tweets is:')\n",
        "plt.axis('equal')\n",
        "plt.tight_layout()\n",
        "plt.show()"
      ],
      "execution_count": null,
      "outputs": [
        {
          "output_type": "display_data",
          "data": {
            "image/png": "[encoded data removed]",
            "text/plain": [
              "<Figure size 432x288 with 1 Axes>"
            ]
          },
          "metadata": {
            "tags": []
          }
        }
      ]
    }
  ]
}